{
  "nbformat": 4,
  "nbformat_minor": 0,
  "metadata": {
    "colab": {
      "provenance": []
    },
    "kernelspec": {
      "name": "python3",
      "display_name": "Python 3"
    },
    "language_info": {
      "name": "python"
    }
  },
  "cells": [
    {
      "cell_type": "code",
      "source": [
        "! pip install pydub\n",
        "from pydub import AudioSegment\n",
        "import os\n",
        "import glob\n",
        "from pathlib import Path\n",
        "import re\n",
        "import json"
      ],
      "metadata": {
        "colab": {
          "base_uri": "https://localhost:8080/"
        },
        "id": "2tclzJfypbGg",
        "outputId": "fe93a832-4637-4eb6-f33a-2ccd1d6f16d9"
      },
      "execution_count": 8,
      "outputs": [
        {
          "output_type": "stream",
          "name": "stdout",
          "text": [
            "Looking in indexes: https://pypi.org/simple, https://us-python.pkg.dev/colab-wheels/public/simple/\n",
            "Requirement already satisfied: pydub in /usr/local/lib/python3.8/dist-packages (0.25.1)\n"
          ]
        }
      ]
    },
    {
      "cell_type": "code",
      "source": [
        "#@title creat a dictionary for the Audio files , Accents\n",
        "! cp /content/drive/MyDrive/QU-DFKI-Thesis-ASR/Experimentation/data/*.* /content/\n",
        "with open('results-AOE.json', 'r', encoding=\"utf-8\") as j:\n",
        "\tfile_meta_json = json.load(j)\n",
        " \n",
        "\n",
        "# Create an empty dictionary\n",
        "file_meta = {}\n",
        "\n",
        "# Loop through each key-value pair in the JSON data\n",
        "for accent, audio_data in file_meta_json.items():\n",
        "\t# Loop through each audio file in the audio data\n",
        "\t# print(audio_data)\n",
        "\tfor audio_file, info in audio_data.items():\n",
        "\t\t# print(audio_file)\t\n",
        "\t\tinfo['audio']=re.split(r'[/|/|.]',audio_file)[9] \n",
        "\n",
        "\t\t# print(info)\n",
        "\t\t# Get the transcript from the reference field\n",
        "\t\ttranscript = info['reference']\n",
        "\t\t# Create a new inner dictionary with the accent and transcript\n",
        "\t\tinner_dict = {'accent': accent, 'transcript': transcript}\n",
        "\t\t# # Add the inner dictionary to the file_meta dictionary\n",
        "\t\tfile_meta[info['audio']] = inner_dict"
      ],
      "metadata": {
        "id": "VH97dt43p5oe"
      },
      "execution_count": 9,
      "outputs": []
    },
    {
      "cell_type": "code",
      "execution_count": 10,
      "metadata": {
        "colab": {
          "base_uri": "https://localhost:8080/"
        },
        "id": "SJr1c2T4pCar",
        "outputId": "e772af8f-2192-4b44-cdda-c8f707774e07"
      },
      "outputs": [
        {
          "output_type": "stream",
          "name": "stdout",
          "text": [
            "Successfully Convert mp3 files to wav files to the Accenttest_ch.txt\n",
            "Successfully Convert mp3 files to wav files to the Accenttest_ch.txt\n",
            "Successfully Convert mp3 files to wav files to the Accenttest_it.txt\n",
            "Successfully Convert mp3 files to wav files to the Accenttest_de.txt\n",
            "Successfully Convert mp3 files to wav files to the Accenttest_ru.txt\n",
            "Successfully Convert mp3 files to wav files to the Accenttest_de.txt\n"
          ]
        }
      ],
      "source": [
        "#@title convert the mp3 data Audio files to Wav Audio files and sotore them rep. their accents\n",
        "\n",
        "\n",
        "\n",
        "\n",
        "# creat the folder audio/mp3/audio_mp3_files_De\n",
        "if not os.path.exists('audio/mp3/audio_mp3_files_De'):\n",
        "    os.makedirs('audio/mp3/audio_mp3_files_De')\n",
        "# copy the Asuio mp3 files to it\n",
        "! cp  /content/drive/MyDrive/QU-DFKI-Thesis-ASR/Experimentation/ASR-Accent-Analysis-De/audio_mp3_files_De/*.* /content/audio/mp3/audio_mp3_files_De\n",
        "\n",
        "\n",
        "\n",
        "\n",
        "# Set the path to the folder containing the MP3 files\n",
        "mp3_path = \"/content/audio/mp3/audio_mp3_files_De/*.mp3\"\n",
        "\n",
        "# Use glob to get a list of all MP3 files in the folder\n",
        "mp3_files = glob.glob(mp3_path)\n",
        "\n",
        "# Create an empty list to store the file names\n",
        "file_names = []\n",
        "\n",
        "\n",
        "\n",
        "\n",
        "# Loop through the list of MP3 files\n",
        "for mp3_file in mp3_files:\n",
        "\n",
        "  mp3_file_id=re.split(r'[/|/|.]',mp3_file)[5] \n",
        "  accent_temp=file_meta[mp3_file_id]['accent']\n",
        "\n",
        "  # Set the path to the folder where the converted WAV files will be saved\n",
        "  # Moreover add the accent name at the end of the folder \n",
        "  wav_path = f'/content/audio/wav/audio_wav_files_De_{accent_temp}'\n",
        "\n",
        "  # Create the folder to store the WAV files, if it doesn't exist\n",
        "  if not os.path.exists(wav_path):\n",
        "    os.makedirs(wav_path)\n",
        "\n",
        "  # print(mp3_file)\n",
        "  # Load the MP3 file using pydub\n",
        "  audio = AudioSegment.from_mp3(mp3_file)\n",
        "\n",
        "  # Set the path and filename for the output WAV file\n",
        "  wav_file = os.path.join(wav_path, os.path.splitext(os.path.basename(mp3_file))[0] + \".wav\")\n",
        "\n",
        "  # Export the audio to WAV format\n",
        "  audio.export(wav_file, format=\"wav\")\n",
        "  print(f'Successfully Convert mp3 files to wav files to the Accent{accent_temp}')    "
      ]
    },
    {
      "cell_type": "code",
      "source": [],
      "metadata": {
        "id": "RYm5-mghpf9p"
      },
      "execution_count": null,
      "outputs": []
    }
  ]
}